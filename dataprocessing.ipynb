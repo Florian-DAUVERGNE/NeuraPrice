{
 "cells": [
  {
   "cell_type": "code",
   "execution_count": 114,
   "metadata": {},
   "outputs": [
    {
     "name": "stdout",
     "output_type": "stream",
     "text": [
      "Requirement already satisfied: pandas in c:\\users\\floda\\documents\\github\\neuraprice\\.venv\\lib\\site-packages (2.2.3)\n",
      "Requirement already satisfied: numpy>=1.23.2 in c:\\users\\floda\\documents\\github\\neuraprice\\.venv\\lib\\site-packages (from pandas) (2.2.1)\n",
      "Requirement already satisfied: python-dateutil>=2.8.2 in c:\\users\\floda\\documents\\github\\neuraprice\\.venv\\lib\\site-packages (from pandas) (2.9.0.post0)\n",
      "Requirement already satisfied: pytz>=2020.1 in c:\\users\\floda\\documents\\github\\neuraprice\\.venv\\lib\\site-packages (from pandas) (2024.2)\n",
      "Requirement already satisfied: tzdata>=2022.7 in c:\\users\\floda\\documents\\github\\neuraprice\\.venv\\lib\\site-packages (from pandas) (2024.2)\n",
      "Requirement already satisfied: six>=1.5 in c:\\users\\floda\\documents\\github\\neuraprice\\.venv\\lib\\site-packages (from python-dateutil>=2.8.2->pandas) (1.17.0)\n",
      "Requirement already satisfied: numpy in c:\\users\\floda\\documents\\github\\neuraprice\\.venv\\lib\\site-packages (2.2.1)\n",
      "Requirement already satisfied: matplot in c:\\users\\floda\\documents\\github\\neuraprice\\.venv\\lib\\site-packages (0.1.9)\n",
      "Requirement already satisfied: pyloco>=0.0.134 in c:\\users\\floda\\documents\\github\\neuraprice\\.venv\\lib\\site-packages (from matplot) (0.0.139)\n",
      "Requirement already satisfied: matplotlib>=3.1.1 in c:\\users\\floda\\documents\\github\\neuraprice\\.venv\\lib\\site-packages (from matplot) (3.10.0)\n",
      "Requirement already satisfied: contourpy>=1.0.1 in c:\\users\\floda\\documents\\github\\neuraprice\\.venv\\lib\\site-packages (from matplotlib>=3.1.1->matplot) (1.3.1)\n",
      "Requirement already satisfied: cycler>=0.10 in c:\\users\\floda\\documents\\github\\neuraprice\\.venv\\lib\\site-packages (from matplotlib>=3.1.1->matplot) (0.12.1)\n",
      "Requirement already satisfied: fonttools>=4.22.0 in c:\\users\\floda\\documents\\github\\neuraprice\\.venv\\lib\\site-packages (from matplotlib>=3.1.1->matplot) (4.55.3)\n",
      "Requirement already satisfied: kiwisolver>=1.3.1 in c:\\users\\floda\\documents\\github\\neuraprice\\.venv\\lib\\site-packages (from matplotlib>=3.1.1->matplot) (1.4.8)\n",
      "Requirement already satisfied: numpy>=1.23 in c:\\users\\floda\\documents\\github\\neuraprice\\.venv\\lib\\site-packages (from matplotlib>=3.1.1->matplot) (2.2.1)\n",
      "Requirement already satisfied: packaging>=20.0 in c:\\users\\floda\\documents\\github\\neuraprice\\.venv\\lib\\site-packages (from matplotlib>=3.1.1->matplot) (24.2)\n",
      "Requirement already satisfied: pillow>=8 in c:\\users\\floda\\documents\\github\\neuraprice\\.venv\\lib\\site-packages (from matplotlib>=3.1.1->matplot) (11.1.0)\n",
      "Requirement already satisfied: pyparsing>=2.3.1 in c:\\users\\floda\\documents\\github\\neuraprice\\.venv\\lib\\site-packages (from matplotlib>=3.1.1->matplot) (3.2.1)\n",
      "Requirement already satisfied: python-dateutil>=2.7 in c:\\users\\floda\\documents\\github\\neuraprice\\.venv\\lib\\site-packages (from matplotlib>=3.1.1->matplot) (2.9.0.post0)\n",
      "Requirement already satisfied: ushlex in c:\\users\\floda\\documents\\github\\neuraprice\\.venv\\lib\\site-packages (from pyloco>=0.0.134->matplot) (0.99.1)\n",
      "Requirement already satisfied: websocket-client in c:\\users\\floda\\documents\\github\\neuraprice\\.venv\\lib\\site-packages (from pyloco>=0.0.134->matplot) (1.8.0)\n",
      "Requirement already satisfied: twine in c:\\users\\floda\\documents\\github\\neuraprice\\.venv\\lib\\site-packages (from pyloco>=0.0.134->matplot) (6.0.1)\n",
      "Requirement already satisfied: typing in c:\\users\\floda\\documents\\github\\neuraprice\\.venv\\lib\\site-packages (from pyloco>=0.0.134->matplot) (3.7.4.3)\n",
      "Requirement already satisfied: SimpleWebSocketServer in c:\\users\\floda\\documents\\github\\neuraprice\\.venv\\lib\\site-packages (from pyloco>=0.0.134->matplot) (0.1.2)\n",
      "Requirement already satisfied: six>=1.5 in c:\\users\\floda\\documents\\github\\neuraprice\\.venv\\lib\\site-packages (from python-dateutil>=2.7->matplotlib>=3.1.1->matplot) (1.17.0)\n",
      "Requirement already satisfied: pkginfo>=1.8.1 in c:\\users\\floda\\documents\\github\\neuraprice\\.venv\\lib\\site-packages (from twine->pyloco>=0.0.134->matplot) (1.12.0)\n",
      "Requirement already satisfied: readme-renderer>=35.0 in c:\\users\\floda\\documents\\github\\neuraprice\\.venv\\lib\\site-packages (from twine->pyloco>=0.0.134->matplot) (44.0)\n",
      "Requirement already satisfied: requests>=2.20 in c:\\users\\floda\\documents\\github\\neuraprice\\.venv\\lib\\site-packages (from twine->pyloco>=0.0.134->matplot) (2.32.3)\n",
      "Requirement already satisfied: requests-toolbelt!=0.9.0,>=0.8.0 in c:\\users\\floda\\documents\\github\\neuraprice\\.venv\\lib\\site-packages (from twine->pyloco>=0.0.134->matplot) (1.0.0)\n",
      "Requirement already satisfied: urllib3>=1.26.0 in c:\\users\\floda\\documents\\github\\neuraprice\\.venv\\lib\\site-packages (from twine->pyloco>=0.0.134->matplot) (2.3.0)\n",
      "Requirement already satisfied: keyring>=15.1 in c:\\users\\floda\\documents\\github\\neuraprice\\.venv\\lib\\site-packages (from twine->pyloco>=0.0.134->matplot) (25.6.0)\n",
      "Requirement already satisfied: rfc3986>=1.4.0 in c:\\users\\floda\\documents\\github\\neuraprice\\.venv\\lib\\site-packages (from twine->pyloco>=0.0.134->matplot) (2.0.0)\n",
      "Requirement already satisfied: rich>=12.0.0 in c:\\users\\floda\\documents\\github\\neuraprice\\.venv\\lib\\site-packages (from twine->pyloco>=0.0.134->matplot) (13.9.4)\n",
      "Requirement already satisfied: pywin32-ctypes>=0.2.0 in c:\\users\\floda\\documents\\github\\neuraprice\\.venv\\lib\\site-packages (from keyring>=15.1->twine->pyloco>=0.0.134->matplot) (0.2.3)\n",
      "Requirement already satisfied: importlib_metadata>=4.11.4 in c:\\users\\floda\\documents\\github\\neuraprice\\.venv\\lib\\site-packages (from keyring>=15.1->twine->pyloco>=0.0.134->matplot) (8.5.0)\n",
      "Requirement already satisfied: jaraco.classes in c:\\users\\floda\\documents\\github\\neuraprice\\.venv\\lib\\site-packages (from keyring>=15.1->twine->pyloco>=0.0.134->matplot) (3.4.0)\n",
      "Requirement already satisfied: jaraco.functools in c:\\users\\floda\\documents\\github\\neuraprice\\.venv\\lib\\site-packages (from keyring>=15.1->twine->pyloco>=0.0.134->matplot) (4.1.0)\n",
      "Requirement already satisfied: jaraco.context in c:\\users\\floda\\documents\\github\\neuraprice\\.venv\\lib\\site-packages (from keyring>=15.1->twine->pyloco>=0.0.134->matplot) (6.0.1)\n",
      "Requirement already satisfied: nh3>=0.2.14 in c:\\users\\floda\\documents\\github\\neuraprice\\.venv\\lib\\site-packages (from readme-renderer>=35.0->twine->pyloco>=0.0.134->matplot) (0.2.20)\n",
      "Requirement already satisfied: docutils>=0.21.2 in c:\\users\\floda\\documents\\github\\neuraprice\\.venv\\lib\\site-packages (from readme-renderer>=35.0->twine->pyloco>=0.0.134->matplot) (0.21.2)\n",
      "Requirement already satisfied: Pygments>=2.5.1 in c:\\users\\floda\\documents\\github\\neuraprice\\.venv\\lib\\site-packages (from readme-renderer>=35.0->twine->pyloco>=0.0.134->matplot) (2.19.1)\n",
      "Requirement already satisfied: charset-normalizer<4,>=2 in c:\\users\\floda\\documents\\github\\neuraprice\\.venv\\lib\\site-packages (from requests>=2.20->twine->pyloco>=0.0.134->matplot) (3.4.1)\n",
      "Requirement already satisfied: idna<4,>=2.5 in c:\\users\\floda\\documents\\github\\neuraprice\\.venv\\lib\\site-packages (from requests>=2.20->twine->pyloco>=0.0.134->matplot) (3.10)\n",
      "Requirement already satisfied: certifi>=2017.4.17 in c:\\users\\floda\\documents\\github\\neuraprice\\.venv\\lib\\site-packages (from requests>=2.20->twine->pyloco>=0.0.134->matplot) (2024.12.14)\n",
      "Requirement already satisfied: markdown-it-py>=2.2.0 in c:\\users\\floda\\documents\\github\\neuraprice\\.venv\\lib\\site-packages (from rich>=12.0.0->twine->pyloco>=0.0.134->matplot) (3.0.0)\n",
      "Requirement already satisfied: zipp>=3.20 in c:\\users\\floda\\documents\\github\\neuraprice\\.venv\\lib\\site-packages (from importlib_metadata>=4.11.4->keyring>=15.1->twine->pyloco>=0.0.134->matplot) (3.21.0)\n",
      "Requirement already satisfied: mdurl~=0.1 in c:\\users\\floda\\documents\\github\\neuraprice\\.venv\\lib\\site-packages (from markdown-it-py>=2.2.0->rich>=12.0.0->twine->pyloco>=0.0.134->matplot) (0.1.2)\n",
      "Requirement already satisfied: more-itertools in c:\\users\\floda\\documents\\github\\neuraprice\\.venv\\lib\\site-packages (from jaraco.classes->keyring>=15.1->twine->pyloco>=0.0.134->matplot) (10.5.0)\n",
      "Requirement already satisfied: backports.tarfile in c:\\users\\floda\\documents\\github\\neuraprice\\.venv\\lib\\site-packages (from jaraco.context->keyring>=15.1->twine->pyloco>=0.0.134->matplot) (1.2.0)\n",
      "Requirement already satisfied: requests in c:\\users\\floda\\documents\\github\\neuraprice\\.venv\\lib\\site-packages (2.32.3)\n",
      "Requirement already satisfied: charset-normalizer<4,>=2 in c:\\users\\floda\\documents\\github\\neuraprice\\.venv\\lib\\site-packages (from requests) (3.4.1)\n",
      "Requirement already satisfied: idna<4,>=2.5 in c:\\users\\floda\\documents\\github\\neuraprice\\.venv\\lib\\site-packages (from requests) (3.10)\n",
      "Requirement already satisfied: urllib3<3,>=1.21.1 in c:\\users\\floda\\documents\\github\\neuraprice\\.venv\\lib\\site-packages (from requests) (2.3.0)\n",
      "Requirement already satisfied: certifi>=2017.4.17 in c:\\users\\floda\\documents\\github\\neuraprice\\.venv\\lib\\site-packages (from requests) (2024.12.14)\n"
     ]
    }
   ],
   "source": [
    "!pip install pandas\n",
    "!pip install numpy\n",
    "!pip install matplot\n",
    "!pip install requests"
   ]
  },
  {
   "cell_type": "code",
   "execution_count": 115,
   "metadata": {},
   "outputs": [],
   "source": [
    "import pandas as pd\n",
    "\n",
    "import requests\n",
    "import zipfile\n",
    "import os\n",
    "\n",
    "import numpy as np\n",
    "\n",
    "import matplotlib.pyplot as plt\n",
    "\n",
    "\n",
    "pd.set_option('display.max_columns', None)  # or 1000\n",
    "pd.set_option('display.max_rows', 5)  # or 1000\n",
    "pd.set_option('display.max_colwidth', None)  # or 199\n"
   ]
  },
  {
   "cell_type": "code",
   "execution_count": 116,
   "metadata": {},
   "outputs": [],
   "source": [
    "def clean_dataset(df):\n",
    "\n",
    "    df = df.loc[:, ~df.columns.str.contains('Unnamed:')]\n",
    "\n",
    "    na_pourcentage = (df.isna().sum()/len(df))*100\n",
    "\n",
    "    print(na_pourcentage)\n",
    "\n",
    "    drop_col = na_pourcentage[na_pourcentage > 90].index\n",
    "\n",
    "    df = df.drop(columns=drop_col)\n",
    "\n",
    "    return df"
   ]
  },
  {
   "cell_type": "code",
   "execution_count": 117,
   "metadata": {},
   "outputs": [
    {
     "name": "stdout",
     "output_type": "stream",
     "text": [
      "Downloading https://www.kaggle.com/api/v1/datasets/download/rkiattisak/mobile-phone-price to ./datasets/mobile-phone-price.zip...\n",
      "Download completed for https://www.kaggle.com/api/v1/datasets/download/rkiattisak/mobile-phone-price!\n",
      "Extraction completed for ./datasets/mobile-phone-price.zip!\n",
      "Removed the zip file: ./datasets/mobile-phone-price.zip\n",
      "Downloading https://www.kaggle.com/api/v1/datasets/download/shaikmohammedzubair/mobile-phone-prices to ./datasets/mobile-phone-prices.zip...\n",
      "Download completed for https://www.kaggle.com/api/v1/datasets/download/shaikmohammedzubair/mobile-phone-prices!\n",
      "Extraction completed for ./datasets/mobile-phone-prices.zip!\n",
      "Removed the zip file: ./datasets/mobile-phone-prices.zip\n",
      "Downloading https://www.kaggle.com/api/v1/datasets/download/artempozdniakov/ukrainian-market-mobile-phones-data to ./datasets/ukrainian-market-mobile-phones-data.zip...\n",
      "Download completed for https://www.kaggle.com/api/v1/datasets/download/artempozdniakov/ukrainian-market-mobile-phones-data!\n",
      "Extraction completed for ./datasets/ukrainian-market-mobile-phones-data.zip!\n",
      "Removed the zip file: ./datasets/ukrainian-market-mobile-phones-data.zip\n",
      "Downloading https://www.kaggle.com/api/v1/datasets/download/ganjerlawrence/mobile-phone-price-prediction-cleaned-dataset to ./datasets/mobile-phone-price-prediction-cleaned-dataset.zip...\n",
      "Download completed for https://www.kaggle.com/api/v1/datasets/download/ganjerlawrence/mobile-phone-price-prediction-cleaned-dataset!\n",
      "Extraction completed for ./datasets/mobile-phone-price-prediction-cleaned-dataset.zip!\n",
      "Removed the zip file: ./datasets/mobile-phone-price-prediction-cleaned-dataset.zip\n",
      "Downloading https://www.kaggle.com/api/v1/datasets/download/pratikgarai/mobile-phone-specifications-and-prices to ./datasets/mobile-phone-specifications-and-prices.zip...\n",
      "Download completed for https://www.kaggle.com/api/v1/datasets/download/pratikgarai/mobile-phone-specifications-and-prices!\n",
      "Extraction completed for ./datasets/mobile-phone-specifications-and-prices.zip!\n",
      "Removed the zip file: ./datasets/mobile-phone-specifications-and-prices.zip\n",
      "Downloading https://www.kaggle.com/api/v1/datasets/download/berkayeserr/phone-prices to ./datasets/phone-prices.zip...\n",
      "Download completed for https://www.kaggle.com/api/v1/datasets/download/berkayeserr/phone-prices!\n",
      "Extraction completed for ./datasets/phone-prices.zip!\n",
      "Removed the zip file: ./datasets/phone-prices.zip\n",
      "CSV file extracted: ./datasets/CleanedData.csv\n",
      "CSV file extracted: ./datasets/cleaned_all_phones.csv\n",
      "CSV file extracted: ./datasets/Mobile phone price.csv\n",
      "CSV file extracted: ./datasets/Mobile-Price-Prediction-cleaned_data.csv\n",
      "CSV file extracted: ./datasets/ndtv_data_final.csv\n",
      "CSV file extracted: ./datasets/phones_data.csv\n"
     ]
    }
   ],
   "source": [
    "\n",
    "# Paths to the datasets\n",
    "paths = {\n",
    "    \"https://www.kaggle.com/api/v1/datasets/download/berkayeserr/phone-prices\",\n",
    "    \"https://www.kaggle.com/api/v1/datasets/download/rkiattisak/mobile-phone-price\",\n",
    "    \"https://www.kaggle.com/api/v1/datasets/download/ganjerlawrence/mobile-phone-price-prediction-cleaned-dataset\",\n",
    "    \"https://www.kaggle.com/api/v1/datasets/download/pratikgarai/mobile-phone-specifications-and-prices\",\n",
    "    #\"https://www.kaggle.com/api/v1/datasets/download/shreyasur965/phone-search-dataset\",\n",
    "    \"https://www.kaggle.com/api/v1/datasets/download/artempozdniakov/ukrainian-market-mobile-phones-data\",\n",
    "    \"https://www.kaggle.com/api/v1/datasets/download/shaikmohammedzubair/mobile-phone-prices\"\n",
    "}\n",
    "\n",
    "# Directory to save the extracted CSVs\n",
    "output_directory = './datasets/'\n",
    "\n",
    "# Ensure the directory exists\n",
    "if not os.path.exists(output_directory):\n",
    "    os.makedirs(output_directory)\n",
    "\n",
    "# Array to hold all CSV file paths\n",
    "csv_files = []\n",
    "\n",
    "for value in paths:\n",
    "    url = value\n",
    "    output_path = output_directory + value.split('/')[-1] + '.zip'\n",
    "\n",
    "    print(f\"Downloading {url} to {output_path}...\")\n",
    "\n",
    "    # Download the zip file\n",
    "    response = requests.get(url, allow_redirects=True)\n",
    "    \n",
    "    with open(output_path, \"wb\") as file:\n",
    "        file.write(response.content)\n",
    "\n",
    "    print(f\"Download completed for {url}!\")\n",
    "\n",
    "    # Extract the ZIP file\n",
    "    with zipfile.ZipFile(output_path, 'r') as zip_ref:\n",
    "        zip_ref.extractall(output_directory)\n",
    "\n",
    "    print(f\"Extraction completed for {output_path}!\")\n",
    "\n",
    "\n",
    "\n",
    "    # Optionally, remove the zip file after extraction to save space\n",
    "    os.remove(output_path)\n",
    "    print(f\"Removed the zip file: {output_path}\")\n",
    "\n",
    "# Add all CSV files to the csv_files array\n",
    "for extracted_file in os.listdir(output_directory):\n",
    "    if extracted_file.endswith('.csv'):\n",
    "        csv_file_path = os.path.join(output_directory, extracted_file)\n",
    "        csv_files.append(csv_file_path)\n",
    "        print(f\"CSV file extracted: {csv_file_path}\")"
   ]
  },
  {
   "cell_type": "code",
   "execution_count": 118,
   "metadata": {},
   "outputs": [],
   "source": [
    "df = pd.read_csv(csv_files[0])\n",
    "df2 = pd.read_csv(csv_files[1])\n",
    "df3 = pd.read_csv(csv_files[2])\n",
    "df4 = pd.read_csv(csv_files[3])\n",
    "df5 = pd.read_csv(csv_files[4])\n",
    "df6 = pd.read_csv(csv_files[5])"
   ]
  },
  {
   "cell_type": "code",
   "execution_count": 119,
   "metadata": {},
   "outputs": [
    {
     "name": "stdout",
     "output_type": "stream",
     "text": [
      "['title', 'rating', 'image', 'price', 'touch', 'quick_charge', 'gpu', 'processor_brand', 'ram', 'hd', 'battery', 'battery_type', 'warranty_time', 'java', 'brand', 'headset', 'charger', 'warranty', 'cable', 'pro', 'model', 'color1', 'color2', 'sim', 'display', 'height', 'width', 'os', 'core', 'clock_speed', 'storage', 'expandable', 'camera', 'secondary_camera', 'video', 'network']\n",
      "['phone_name', 'brand', 'os', 'inches', 'resolution', 'battery', 'battery_type', 'ram(GB)', 'announcement_date', 'weight(g)', 'storage(GB)', 'video_720p', 'video_1080p', 'video_4K', 'video_8K', 'video_30fps', 'video_60fps', 'video_120fps', 'video_240fps', 'video_480fps', 'video_960fps', 'price(USD)']\n",
      "['Brand', 'Model', 'Storage ', 'RAM ', 'Screen Size (inches)', 'Camera (MP)', 'Battery Capacity (mAh)', 'Price ($)']\n",
      "['Ratings', 'RAM', 'ROM', 'Mobile_Size', 'Primary_Cam', 'Selfi_Cam', 'Battery_Power', 'Price']\n",
      "['Unnamed: 0', 'Name', 'Brand', 'Model', 'Battery capacity (mAh)', 'Screen size (inches)', 'Touchscreen', 'Resolution x', 'Resolution y', 'Processor', 'RAM (MB)', 'Internal storage (GB)', 'Rear camera', 'Front camera', 'Operating system', 'Wi-Fi', 'Bluetooth', 'GPS', 'Number of SIMs', '3G', '4G/ LTE', 'Price']\n",
      "['Unnamed: 0', 'brand_name', 'model_name', 'os', 'popularity', 'best_price', 'lowest_price', 'highest_price', 'sellers_amount', 'screen_size', 'memory_size', 'battery_size', 'release_date']\n"
     ]
    }
   ],
   "source": [
    "print(df.keys().to_list())\n",
    "print(df2.keys().to_list())\n",
    "print(df3.keys().to_list())\n",
    "print(df4.keys().to_list())\n",
    "print(df5.keys().to_list())\n",
    "print(df6.keys().to_list())"
   ]
  },
  {
   "cell_type": "code",
   "execution_count": 120,
   "metadata": {},
   "outputs": [],
   "source": [
    "df['currency'] = \"INR\"\n",
    "df2['currency'] = \"USD\"\n",
    "df3['currency'] = \"USD\"\n",
    "df4['currency'] = \"INR\"\n",
    "df5['currency'] = \"INR\"\n",
    "df6['currency'] = \"UAH\""
   ]
  },
  {
   "cell_type": "code",
   "execution_count": 121,
   "metadata": {},
   "outputs": [
    {
     "name": "stdout",
     "output_type": "stream",
     "text": [
      "price       0.0\n",
      "brand       0.0\n",
      "currency    0.0\n",
      "dtype: float64\n",
      "price(USD)    0.0\n",
      "brand         0.0\n",
      "currency      0.0\n",
      "dtype: float64\n",
      "Price ($)    0.0\n",
      "Brand        0.0\n",
      "currency     0.0\n",
      "dtype: float64\n",
      "Price       0.0\n",
      "currency    0.0\n",
      "dtype: float64\n",
      "Price       0.0\n",
      "Brand       0.0\n",
      "currency    0.0\n",
      "dtype: float64\n",
      "best_price    0.0\n",
      "brand_name    0.0\n",
      "currency      0.0\n",
      "dtype: float64\n"
     ]
    }
   ],
   "source": [
    "df_cleaned  = (clean_dataset(df[['price','brand','currency']]))\n",
    "df2_cleaned = (clean_dataset(df2[['price(USD)','brand','currency']]))\n",
    "df3_cleaned = (clean_dataset(df3[['Price ($)','Brand','currency']]))\n",
    "df4_cleaned = (clean_dataset(df4[['Price','currency']]))\n",
    "df5_cleaned = (clean_dataset(df5[['Price','Brand','currency' ]]))\n",
    "df6_cleaned = (clean_dataset(df6[['best_price','brand_name','currency']]))\n"
   ]
  },
  {
   "cell_type": "code",
   "execution_count": 122,
   "metadata": {},
   "outputs": [],
   "source": [
    "df_cleaned  = df_cleaned.rename(columns={'price': 'price', 'brand': 'brand'})\n",
    "df2_cleaned = df2_cleaned.rename(columns={'price(USD)': 'price', 'brand': 'brand'})\n",
    "df3_cleaned = df3_cleaned.rename(columns={'Price ($)': 'price', 'Brand': 'brand'})\n",
    "df4_cleaned = df4_cleaned.rename(columns={'Price': 'price'})\n",
    "df5_cleaned = df5_cleaned.rename(columns={'Price': 'price', 'Brand': 'brand'})\n",
    "df6_cleaned = df6_cleaned.rename(columns={'best_price': 'price', 'brand_name': 'brand'})\n"
   ]
  },
  {
   "cell_type": "code",
   "execution_count": 123,
   "metadata": {},
   "outputs": [],
   "source": [
    "df_combined = pd.concat([df_cleaned, df2_cleaned, df3_cleaned, df4_cleaned, df5_cleaned,df6_cleaned], axis=0, ignore_index=True)\n"
   ]
  },
  {
   "cell_type": "code",
   "execution_count": 124,
   "metadata": {},
   "outputs": [
    {
     "name": "stderr",
     "output_type": "stream",
     "text": [
      "C:\\Users\\floda\\AppData\\Local\\Temp\\ipykernel_28420\\1283111653.py:1: FutureWarning: Series.fillna with 'method' is deprecated and will raise in a future version. Use obj.ffill() or obj.bfill() instead.\n",
      "  df_combined['brand'] = df_combined['brand'].fillna(method='ffill')\n"
     ]
    }
   ],
   "source": [
    "df_combined['brand'] = df_combined['brand'].fillna(method='ffill')\n",
    "\n",
    "df_combined['price'] = pd.to_numeric(df_combined['price'], errors='coerce')\n",
    "\n",
    "mean_col2 = df_combined['price'].mean()\n",
    "\n",
    "random_factors = np.random.uniform(-1, 1, size=df_combined['price'].isna().sum())\n",
    "\n",
    "nan_indices = df_combined['price'].isna()\n",
    "\n",
    "df_combined.loc[nan_indices, 'price'] = mean_col2 + random_factors"
   ]
  },
  {
   "cell_type": "code",
   "execution_count": 125,
   "metadata": {},
   "outputs": [],
   "source": [
    "exchange_rates = {\n",
    "    'INR': 0.011,  \n",
    "    'UAH': 0.027,\n",
    "    'USD': 0.98,   \n",
    "}\n",
    "\n",
    "def convert_to_eur(row):\n",
    "    return row['price'] * exchange_rates.get(row['currency'], 1)\n",
    "\n",
    "# Ajouter la colonne 'price_euro'\n",
    "df_combined['price_euro'] = df_combined.apply(convert_to_eur, axis=1)\n",
    "\n",
    "# Réorganiser les colonnes pour mettre 'price_euro' en premier\n",
    "df_combined = df_combined[['price_euro'] + [col for col in df_combined.columns if col != 'price_euro']]\n",
    "\n"
   ]
  },
  {
   "cell_type": "code",
   "execution_count": 126,
   "metadata": {},
   "outputs": [
    {
     "data": {
      "text/html": [
       "<div>\n",
       "<style scoped>\n",
       "    .dataframe tbody tr th:only-of-type {\n",
       "        vertical-align: middle;\n",
       "    }\n",
       "\n",
       "    .dataframe tbody tr th {\n",
       "        vertical-align: top;\n",
       "    }\n",
       "\n",
       "    .dataframe thead th {\n",
       "        text-align: right;\n",
       "    }\n",
       "</style>\n",
       "<table border=\"1\" class=\"dataframe\">\n",
       "  <thead>\n",
       "    <tr style=\"text-align: right;\">\n",
       "      <th></th>\n",
       "      <th>price_euro</th>\n",
       "      <th>price</th>\n",
       "      <th>brand</th>\n",
       "      <th>currency</th>\n",
       "    </tr>\n",
       "  </thead>\n",
       "  <tbody>\n",
       "    <tr>\n",
       "      <th>0</th>\n",
       "      <td>142.989</td>\n",
       "      <td>12999.0</td>\n",
       "      <td>POCO</td>\n",
       "      <td>INR</td>\n",
       "    </tr>\n",
       "    <tr>\n",
       "      <th>1</th>\n",
       "      <td>153.989</td>\n",
       "      <td>13999.0</td>\n",
       "      <td>POCO</td>\n",
       "      <td>INR</td>\n",
       "    </tr>\n",
       "    <tr>\n",
       "      <th>...</th>\n",
       "      <td>...</td>\n",
       "      <td>...</td>\n",
       "      <td>...</td>\n",
       "      <td>...</td>\n",
       "    </tr>\n",
       "    <tr>\n",
       "      <th>5857</th>\n",
       "      <td>506.385</td>\n",
       "      <td>18755.0</td>\n",
       "      <td>ZTE</td>\n",
       "      <td>UAH</td>\n",
       "    </tr>\n",
       "    <tr>\n",
       "      <th>5858</th>\n",
       "      <td>24.489</td>\n",
       "      <td>907.0</td>\n",
       "      <td>Sigma mobile</td>\n",
       "      <td>UAH</td>\n",
       "    </tr>\n",
       "  </tbody>\n",
       "</table>\n",
       "<p>5859 rows × 4 columns</p>\n",
       "</div>"
      ],
      "text/plain": [
       "      price_euro    price         brand currency\n",
       "0        142.989  12999.0          POCO      INR\n",
       "1        153.989  13999.0          POCO      INR\n",
       "...          ...      ...           ...      ...\n",
       "5857     506.385  18755.0           ZTE      UAH\n",
       "5858      24.489    907.0  Sigma mobile      UAH\n",
       "\n",
       "[5859 rows x 4 columns]"
      ]
     },
     "execution_count": 126,
     "metadata": {},
     "output_type": "execute_result"
    }
   ],
   "source": [
    "df_combined"
   ]
  },
  {
   "cell_type": "code",
   "execution_count": 127,
   "metadata": {},
   "outputs": [
    {
     "name": "stdout",
     "output_type": "stream",
     "text": [
      "rating\n",
      "4.0    93.272727\n",
      "5.0     4.000000\n",
      "3.0     2.727273\n",
      "Name: proportion, dtype: float64\n"
     ]
    }
   ],
   "source": [
    "pourcentage = df['rating'].round().value_counts(normalize=True) * 100\n",
    "print(pourcentage)"
   ]
  },
  {
   "cell_type": "code",
   "execution_count": 128,
   "metadata": {},
   "outputs": [],
   "source": [
    "df_combined['price_euro'] = round(df_combined['price_euro'],1)\n",
    "df_combined['price'] = round(df_combined['price'],1)"
   ]
  },
  {
   "cell_type": "code",
   "execution_count": 129,
   "metadata": {},
   "outputs": [
    {
     "data": {
      "text/html": [
       "<div>\n",
       "<style scoped>\n",
       "    .dataframe tbody tr th:only-of-type {\n",
       "        vertical-align: middle;\n",
       "    }\n",
       "\n",
       "    .dataframe tbody tr th {\n",
       "        vertical-align: top;\n",
       "    }\n",
       "\n",
       "    .dataframe thead th {\n",
       "        text-align: right;\n",
       "    }\n",
       "</style>\n",
       "<table border=\"1\" class=\"dataframe\">\n",
       "  <thead>\n",
       "    <tr style=\"text-align: right;\">\n",
       "      <th></th>\n",
       "      <th>price_euro</th>\n",
       "      <th>price</th>\n",
       "      <th>brand</th>\n",
       "      <th>currency</th>\n",
       "    </tr>\n",
       "  </thead>\n",
       "  <tbody>\n",
       "    <tr>\n",
       "      <th>0</th>\n",
       "      <td>143.0</td>\n",
       "      <td>12999.0</td>\n",
       "      <td>POCO</td>\n",
       "      <td>INR</td>\n",
       "    </tr>\n",
       "    <tr>\n",
       "      <th>1</th>\n",
       "      <td>154.0</td>\n",
       "      <td>13999.0</td>\n",
       "      <td>POCO</td>\n",
       "      <td>INR</td>\n",
       "    </tr>\n",
       "    <tr>\n",
       "      <th>2</th>\n",
       "      <td>165.0</td>\n",
       "      <td>14999.0</td>\n",
       "      <td>Motorola</td>\n",
       "      <td>INR</td>\n",
       "    </tr>\n",
       "    <tr>\n",
       "      <th>3</th>\n",
       "      <td>187.0</td>\n",
       "      <td>16999.0</td>\n",
       "      <td>POCO</td>\n",
       "      <td>INR</td>\n",
       "    </tr>\n",
       "    <tr>\n",
       "      <th>4</th>\n",
       "      <td>165.0</td>\n",
       "      <td>14999.0</td>\n",
       "      <td>Motorola</td>\n",
       "      <td>INR</td>\n",
       "    </tr>\n",
       "  </tbody>\n",
       "</table>\n",
       "</div>"
      ],
      "text/plain": [
       "   price_euro    price     brand currency\n",
       "0       143.0  12999.0      POCO      INR\n",
       "1       154.0  13999.0      POCO      INR\n",
       "2       165.0  14999.0  Motorola      INR\n",
       "3       187.0  16999.0      POCO      INR\n",
       "4       165.0  14999.0  Motorola      INR"
      ]
     },
     "execution_count": 129,
     "metadata": {},
     "output_type": "execute_result"
    }
   ],
   "source": [
    "df = df_combined\n",
    "\n",
    "def add_gaussian_noise(data, noise_level=0.02):\n",
    "    noise = np.random.normal(0, noise_level * data, data.shape)\n",
    "    return data + noise\n",
    "\n",
    "df_augmented = df.copy()\n",
    "df_augmented[\"price_euro\"] = add_gaussian_noise(df[\"price_euro\"])\n",
    "df_augmented[\"price\"] = add_gaussian_noise(df[\"price\"])\n",
    "\n",
    "df_combined = pd.concat([df, df_augmented], ignore_index=True)\n",
    "\n",
    "df_combined = df_combined.round()\n",
    "\n",
    "df_combined.head()\n"
   ]
  },
  {
   "cell_type": "code",
   "execution_count": 130,
   "metadata": {},
   "outputs": [],
   "source": [
    "ratings = [4.0, 5.0, 3.0]\n",
    "probabilities = [0.9327, 0.04, 0.0273]\n",
    "categories = {5.0: \"Neuf\", 4.0: \"Bon état\", 3.0: \"Occasion\"}\n",
    "\n",
    "np.random.seed(42)\n",
    "assigned_ratings = np.random.choice(ratings, size=df_combined.shape[0], p=probabilities)\n",
    "\n",
    "df_combined[\"rating\"] = assigned_ratings\n",
    "df_combined[\"condition\"] = df_combined[\"rating\"].map(categories)\n"
   ]
  },
  {
   "cell_type": "code",
   "execution_count": 131,
   "metadata": {},
   "outputs": [],
   "source": [
    "def adjust_price(row):\n",
    "    if row['condition'] == \"Neuf\":\n",
    "        factor = np.random.uniform(1.0, 1.15)\n",
    "    elif row['condition'] == \"Bon état\":\n",
    "        factor = np.random.uniform(0.5, 0.9)\n",
    "    elif row['condition'] == \"Occasion\":\n",
    "        factor = np.random.uniform(0.2, 0.4)\n",
    "    else:\n",
    "        factor = 1\n",
    "    return round(row['price_euro'] * factor)"
   ]
  },
  {
   "cell_type": "code",
   "execution_count": 132,
   "metadata": {},
   "outputs": [],
   "source": [
    "df_combined['price_adjuted'] = df_combined.apply(adjust_price, axis=1)"
   ]
  },
  {
   "cell_type": "code",
   "execution_count": 133,
   "metadata": {},
   "outputs": [
    {
     "data": {
      "text/html": [
       "<div>\n",
       "<style scoped>\n",
       "    .dataframe tbody tr th:only-of-type {\n",
       "        vertical-align: middle;\n",
       "    }\n",
       "\n",
       "    .dataframe tbody tr th {\n",
       "        vertical-align: top;\n",
       "    }\n",
       "\n",
       "    .dataframe thead th {\n",
       "        text-align: right;\n",
       "    }\n",
       "</style>\n",
       "<table border=\"1\" class=\"dataframe\">\n",
       "  <thead>\n",
       "    <tr style=\"text-align: right;\">\n",
       "      <th></th>\n",
       "      <th>price_euro</th>\n",
       "      <th>price</th>\n",
       "      <th>brand</th>\n",
       "      <th>currency</th>\n",
       "      <th>rating</th>\n",
       "      <th>condition</th>\n",
       "      <th>price_adjuted</th>\n",
       "    </tr>\n",
       "  </thead>\n",
       "  <tbody>\n",
       "    <tr>\n",
       "      <th>0</th>\n",
       "      <td>143.0</td>\n",
       "      <td>12999.0</td>\n",
       "      <td>POCO</td>\n",
       "      <td>INR</td>\n",
       "      <td>4.0</td>\n",
       "      <td>Bon état</td>\n",
       "      <td>86</td>\n",
       "    </tr>\n",
       "    <tr>\n",
       "      <th>1</th>\n",
       "      <td>154.0</td>\n",
       "      <td>13999.0</td>\n",
       "      <td>POCO</td>\n",
       "      <td>INR</td>\n",
       "      <td>5.0</td>\n",
       "      <td>Neuf</td>\n",
       "      <td>161</td>\n",
       "    </tr>\n",
       "    <tr>\n",
       "      <th>...</th>\n",
       "      <td>...</td>\n",
       "      <td>...</td>\n",
       "      <td>...</td>\n",
       "      <td>...</td>\n",
       "      <td>...</td>\n",
       "      <td>...</td>\n",
       "      <td>...</td>\n",
       "    </tr>\n",
       "    <tr>\n",
       "      <th>11716</th>\n",
       "      <td>496.0</td>\n",
       "      <td>19161.0</td>\n",
       "      <td>ZTE</td>\n",
       "      <td>UAH</td>\n",
       "      <td>4.0</td>\n",
       "      <td>Bon état</td>\n",
       "      <td>331</td>\n",
       "    </tr>\n",
       "    <tr>\n",
       "      <th>11717</th>\n",
       "      <td>25.0</td>\n",
       "      <td>922.0</td>\n",
       "      <td>Sigma mobile</td>\n",
       "      <td>UAH</td>\n",
       "      <td>4.0</td>\n",
       "      <td>Bon état</td>\n",
       "      <td>19</td>\n",
       "    </tr>\n",
       "  </tbody>\n",
       "</table>\n",
       "<p>11718 rows × 7 columns</p>\n",
       "</div>"
      ],
      "text/plain": [
       "       price_euro    price         brand currency  rating condition  \\\n",
       "0           143.0  12999.0          POCO      INR     4.0  Bon état   \n",
       "1           154.0  13999.0          POCO      INR     5.0      Neuf   \n",
       "...           ...      ...           ...      ...     ...       ...   \n",
       "11716       496.0  19161.0           ZTE      UAH     4.0  Bon état   \n",
       "11717        25.0    922.0  Sigma mobile      UAH     4.0  Bon état   \n",
       "\n",
       "       price_adjuted  \n",
       "0                 86  \n",
       "1                161  \n",
       "...              ...  \n",
       "11716            331  \n",
       "11717             19  \n",
       "\n",
       "[11718 rows x 7 columns]"
      ]
     },
     "execution_count": 133,
     "metadata": {},
     "output_type": "execute_result"
    }
   ],
   "source": [
    "df_combined"
   ]
  },
  {
   "cell_type": "code",
   "execution_count": 134,
   "metadata": {},
   "outputs": [],
   "source": [
    "df_combined.to_csv('dataset.csv')"
   ]
  }
 ],
 "metadata": {
  "kernelspec": {
   "display_name": "Python 3",
   "language": "python",
   "name": "python3"
  },
  "language_info": {
   "codemirror_mode": {
    "name": "ipython",
    "version": 3
   },
   "file_extension": ".py",
   "mimetype": "text/x-python",
   "name": "python",
   "nbconvert_exporter": "python",
   "pygments_lexer": "ipython3",
   "version": "3.11.9"
  }
 },
 "nbformat": 4,
 "nbformat_minor": 2
}
